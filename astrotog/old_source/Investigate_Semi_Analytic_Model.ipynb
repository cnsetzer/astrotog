{
 "cells": [
  {
   "cell_type": "code",
   "execution_count": 4,
   "metadata": {},
   "outputs": [],
   "source": [
    "%matplotlib inline"
   ]
  },
  {
   "cell_type": "code",
   "execution_count": 5,
   "metadata": {},
   "outputs": [],
   "source": [
    "import numpy as np\n",
    "from math import inf\n",
    "import matplotlib.pyplot as plt\n",
    "from astrotog import transient_obs_dist as tod\n",
    "import seaborn\n",
    "# Import a cosmology, comment out if you want to define your own per the\n",
    "# astropy cosmology class\n",
    "from astropy.cosmology import Planck15 as cosmo"
   ]
  },
  {
   "cell_type": "code",
   "execution_count": 6,
   "metadata": {},
   "outputs": [],
   "source": [
    "import os\n",
    "import re\n",
    "import datetime\n",
    "import csv\n",
    "import sncosmo\n",
    "import pandas as pd\n",
    "from scipy.integrate import simps\n",
    "from copy import deepcopy\n",
    "import matplotlib\n",
    "import matplotlib.pyplot as plt\n",
    "import opsimsummary as oss\n",
    "import seaborn as sns\n",
    "# from astrotog import macronovae_wrapper as mw\n",
    "import macronovae_wrapper as mw\n",
    "from math import *\n",
    "from macronova2py import macronova2py as m2p\n",
    "\n",
    "# font = {'size': 14}\n",
    "# matplotlib.rc('font', **font)\n",
    "sns.set_style('whitegrid')  # I personally like this style.\n",
    "sns.set_context('talk')  # Easy to change context from `talk`, `notebook`, `poster`, `paper`. though further fine tuning is human."
   ]
  },
  {
   "cell_type": "code",
   "execution_count": 7,
   "metadata": {},
   "outputs": [],
   "source": [
    "# Imports from package\n",
    "import os\n",
    "import re\n",
    "import numpy as np\n",
    "import sncosmo\n",
    "from scipy.integrate import simps\n",
    "from copy import deepcopy\n",
    "import matplotlib\n",
    "import matplotlib.pyplot as plt\n",
    "import opsimsummary as oss\n",
    "import seaborn as sns\n",
    "# font = {'size': 14}\n",
    "# matplotlib.rc('font', **font)\n",
    "sns.set_style('whitegrid')  # I personally like this style.\n",
    "sns.set_context('talk')  # Easy to change context from `talk`, `notebook`, `poster`, `paper`. though further fine tuning is human."
   ]
  },
  {
   "cell_type": "code",
   "execution_count": 8,
   "metadata": {},
   "outputs": [],
   "source": [
    "# Define directory for locations of SEDS, references, throughputs\n",
    "paths = {}\n",
    "paths['seds'] = '/Users/cnsetzer/Documents/LSST/sedb/rosswog/NSNS/winds'\n",
    "paths['survey'] = '/Users/cnsetzer/Documents/LSST/surveydbs/minion_1016_sqlite.db'\n",
    "paths['throughputs'] = '/Users/cnsetzer/Documents/LSST/throughputs'\n",
    "paths['references'] = '/Users/cnsetzer/Documents/LSST/throughputs/references'\n",
    "# Flag for the survey database retreival to only get a subset of the whole.\n",
    "db_flag = 'combined'\n",
    "# Parameter prior for generating the transient KNe distribution\n",
    "param_priors = {'zmin': 0.0, 'zmax': 0.26, 'z_bin_size': 0.02, 'rate': 1000.0,\n",
    "                'cosmology': cosmo, 'kappa_min': 1, 'kappa_max': 100,\n",
    "                'm_ej_min': 0.01, 'm_ej_max': 0.2, 'v_ej_min': 0.01,\n",
    "                'v_ej_max': 0.5}\n",
    "instrument_params = {'Instrument': 'lsst', 'FOV_rad': np.deg2rad(1.75),\n",
    "                     'Mag_Sys': 'ab'}\n",
    "# Different selections cuts and corresponding limits\n",
    "Cuts = {'SNR': {'upper': inf, 'lower': 5, 'limit': 0.50}}\n",
    "# Flag for SED generation to just cycle through SEDs in the database\n",
    "gen_flag = 'parametric'"
   ]
  },
  {
   "cell_type": "code",
   "execution_count": null,
   "metadata": {},
   "outputs": [
    {
     "name": "stdout",
     "output_type": "stream",
     "text": [
      " \n",
      " Using OpSimOutput tool to get the database of simulated survey observations.\n",
      " reading from database sqlite:////Users/cnsetzer/Documents/LSST/surveydbs/minion_1016_sqlite.db\n",
      "SELECT * FROM Summary WHERE propID in (56, 54)\n"
     ]
    }
   ],
   "source": [
    "# Initialize the figure number for iterative, functional plotting\n",
    "fig_num = 1\n",
    "# Setup the basic running structure\n",
    "print(' ')\n",
    "obs_database = tod.Get_ObsStratDB_Summary(paths['survey'], db_flag)\n",
    "print(' Done reading in observation databse: {}'.format(paths['survey']))"
   ]
  },
  {
   "cell_type": "code",
   "execution_count": null,
   "metadata": {},
   "outputs": [],
   "source": [
    "print('\\n Getting survey paramters...')\n",
    "survey_params = tod.Get_Survey_Params(obs_database)\n",
    "print(' Done retreiving survey paramters.')"
   ]
  },
  {
   "cell_type": "code",
   "execution_count": null,
   "metadata": {},
   "outputs": [],
   "source": [
    "print(' Getting the LSST throughputs and computing the reference fluxes...')\n",
    "instrument_params = tod.Get_Throughputs(instrument_params, paths)\n",
    "instrument_params = tod.Get_Reference_Flux(instrument_params, paths)\n",
    "print(' Done computing instrument parameters.')"
   ]
  },
  {
   "cell_type": "markdown",
   "metadata": {},
   "source": [
    "### The wrapper function for generating the SEDs"
   ]
  },
  {
   "cell_type": "code",
   "execution_count": null,
   "metadata": {},
   "outputs": [],
   "source": [
    "# Generate the all mock KNe SEDs\n",
    "# print('\\n Generating mock KNe sources...')\n",
    "# SEDs = tod.Gen_SED_dist(paths['seds'], survey_params, param_priors, gen_flag)\n",
    "# print(' Done generating mock KNe sources.')"
   ]
  },
  {
   "cell_type": "markdown",
   "metadata": {},
   "source": [
    "### Investigate the Gen_SED_dist"
   ]
  },
  {
   "cell_type": "code",
   "execution_count": null,
   "metadata": {},
   "outputs": [],
   "source": [
    "SEDdb_path = paths['seds']\n",
    "# Compile the full parameter space of the generate SEDS\n",
    "# First compute the z_dist based on the survey parameters as this sets the\n",
    "# Number of SEDs"
   ]
  },
  {
   "cell_type": "code",
   "execution_count": null,
   "metadata": {},
   "outputs": [],
   "source": [
    "# SEDs = Gen_zDist_SEDs(SEDdb_path, survey_params, param_priors, gen_flag)"
   ]
  },
  {
   "cell_type": "markdown",
   "metadata": {},
   "source": [
    "### Gen_zDist_SEDs expanded"
   ]
  },
  {
   "cell_type": "code",
   "execution_count": null,
   "metadata": {},
   "outputs": [],
   "source": [
    "Dist_SEDs = {}\n",
    "# Given survey parameters, a SED rate, and a cosmology draw from a Poisson\n",
    "# distribution the distribution of the objects vs. redshift.\n",
    "SED_zlist = list(sncosmo.zdist(zmin=param_priors['zmin'], zmax=param_priors['zmax'],\n",
    "                               time=survey_params['survey_time'], area=survey_params['survey_area'],\n",
    "                               ratefunc=tod.SED_Rate(param_priors), cosmo=param_priors['cosmology']))\n",
    "N_SEDs = len(SED_zlist)\n",
    "new_keys = list()\n",
    "print(' The number of mock SEDs being genereated is {}'.format(N_SEDs))\n",
    "for i in np.arange(N_SEDs):\n",
    "    new_keys.append('Mock_{}'.format(str(i)))"
   ]
  },
  {
   "cell_type": "code",
   "execution_count": null,
   "metadata": {},
   "outputs": [],
   "source": [
    "# Dist_SEDs = Gen_SED(N_SEDs, new_keys, param_priors, seds_path, gen_flag)\n",
    "# # Place the SED at the redshift from the redshift distribution calc."
   ]
  },
  {
   "cell_type": "markdown",
   "metadata": {},
   "source": [
    "### Expand GEN_SED"
   ]
  },
  {
   "cell_type": "code",
   "execution_count": null,
   "metadata": {},
   "outputs": [],
   "source": [
    "if gen_flag == 'cycle':\n",
    "    if SEDdb_loc:\n",
    "        tod.Pick_Rand_dbSED(N_SEDs, new_keys, SEDdb_loc)\n",
    "elif gen_flag == 'parametric':\n",
    "    generating_parameters = tod.Draw_KNe_Params(param_priors, new_keys)   "
   ]
  },
  {
   "cell_type": "markdown",
   "metadata": {},
   "source": [
    "### Explore the parameter space that has been drawn for the generated KNe"
   ]
  },
  {
   "cell_type": "code",
   "execution_count": null,
   "metadata": {},
   "outputs": [],
   "source": [
    "import corner"
   ]
  },
  {
   "cell_type": "code",
   "execution_count": null,
   "metadata": {},
   "outputs": [],
   "source": [
    "p1, p2, p3 = [], [], []\n",
    "for key in generating_parameters.keys():\n",
    "    p1.append(generating_parameters[key]['m_ej']) \n",
    "    p2.append(generating_parameters[key]['v_ej']) \n",
    "    p3.append(generating_parameters[key]['kappa']) \n",
    "    \n",
    "p1 = np.asarray(p1).reshape((len(generating_parameters.keys()),1))\n",
    "p2 = np.asarray(p2).reshape((len(generating_parameters.keys()),1))\n",
    "p3 = np.asarray(p3).reshape((len(generating_parameters.keys()),1))"
   ]
  },
  {
   "cell_type": "code",
   "execution_count": null,
   "metadata": {},
   "outputs": [],
   "source": [
    "d_set1 = np.hstack([p1,p2,p3])\n",
    "print(d_set1)"
   ]
  },
  {
   "cell_type": "code",
   "execution_count": null,
   "metadata": {},
   "outputs": [],
   "source": [
    "value1 = [0.06,0.15,10]\n",
    "\n",
    "figure = corner.corner(d_set1,labels=[r\"$m_{\\mathrm{ej}}$\", r\"$v_{\\mathrm{ej}}$\", r\"$\\kappa$\"],\n",
    "                       show_titles=True, title_kwargs={\"fontsize\": 12})\n",
    "\n",
    "# Extract the axes\n",
    "axes = np.array(figure.axes).reshape((3,3))\n",
    "\n",
    "# Loop over the diagonal\n",
    "for i in range(3):\n",
    "    ax = axes[i, i]\n",
    "    ax.axvline(value1[i], color=\"r\")\n",
    "\n",
    "# Loop over the histograms\n",
    "for yi in range(3):\n",
    "    for xi in range(yi):\n",
    "        ax = axes[yi, xi]\n",
    "        ax.axvline(value1[xi], color=\"r\")\n",
    "        ax.axhline(value1[yi], color=\"r\")\n",
    "        ax.plot(value1[xi], value1[yi], \"sr\")\n",
    "        "
   ]
  },
  {
   "cell_type": "markdown",
   "metadata": {},
   "source": [
    "### Expand Semi_Analytic_KNe"
   ]
  },
  {
   "cell_type": "code",
   "execution_count": null,
   "metadata": {},
   "outputs": [],
   "source": [
    "#Semi_Analytic_KNe(generating_parameters, new_keys)"
   ]
  },
  {
   "cell_type": "markdown",
   "metadata": {},
   "source": [
    "### Save some of the properties of the SEDs that are generated"
   ]
  },
  {
   "cell_type": "code",
   "execution_count": null,
   "metadata": {},
   "outputs": [],
   "source": [
    "seds_data = {}\n",
    "seds_props = {}\n",
    "seds_props['M_u_peak'] = []\n",
    "seds_props['M_g_peak'] = []\n",
    "seds_props['M_r_peak'] = []\n",
    "seds_props['M_i_peak'] = []\n",
    "seds_props['M_z_peak'] = []\n",
    "seds_props['M_y_peak'] = []\n",
    "seds_props['t_peak'] = []\n",
    "seds_props['L_peak'] = []\n",
    "seds_props['t_fall'] = []\n",
    "seds_props['log_lum'] = []\n",
    "seds_props['delta_L_peak'] = []\n",
    "seds_props['delta_L_fall'] = []\n",
    "throughputs = instrument_params['throughputs']\n",
    "ref_bandflux = deepcopy(instrument_params['Bandflux_References'])\n",
    "\n",
    "key = new_keys[0]\n",
    "KNE_parameters = []\n",
    "KNE_parameters.append(generating_parameters[key]['t_0'])\n",
    "KNE_parameters.append(generating_parameters[key]['t_f'])\n",
    "KNE_parameters.append(0.014) # m_ej\n",
    "KNE_parameters.append(0.125)  # v_ej\n",
    "KNE_parameters.append(generating_parameters[key]['heatingrate_exp'])\n",
    "KNE_parameters.append(generating_parameters[key]['thermalization_factor'])\n",
    "KNE_parameters.append(generating_parameters[key]['DZ_enhancement_factor'])\n",
    "KNE_parameters.append(1.0) # kappa\n",
    "KNE_parameters.append(generating_parameters[key]['Initial_Temp'])\n",
    "KNE_parameters.append(False)\n",
    "KNE_parameters.append('dummy string')"
   ]
  },
  {
   "cell_type": "code",
   "execution_count": null,
   "metadata": {},
   "outputs": [],
   "source": [
    "Nt = 2000\n",
    "n = len(KNE_parameters) - 2\n",
    "MNE_parameters = KNE_parameters[0:n]\n",
    "read_hrate = KNE_parameters[n]\n",
    "heating_rates_file = KNE_parameters[n+1]\n",
    "luminosity = m2p.calculate_luminosity(n, MNE_parameters, read_hrate, heating_rates_file, Nt)\n",
    "luminosity[:,1] = luminosity[:,1]\n",
    "phase, wave, flux = mw.SED_timeseries(luminosity, separated=True)\n",
    "source = sncosmo.TimeSeriesSource(phase, wave, flux)\n",
    "model = sncosmo.Model(source=source)"
   ]
  },
  {
   "cell_type": "code",
   "execution_count": null,
   "metadata": {},
   "outputs": [],
   "source": [
    "print(luminosity[:,0])"
   ]
  },
  {
   "cell_type": "code",
   "execution_count": null,
   "metadata": {},
   "outputs": [],
   "source": [
    "# Find peak time/index\n",
    "max_ind = np.argmax(luminosity[:,1])\n",
    "print(max_ind)\n",
    "max_lum = np.asscalar(luminosity[max_ind,1])\n",
    "t_max = np.asscalar(luminosity[max_ind,0])\n",
    "print(t_max)\n",
    "t_fall = np.asscalar(luminosity[-1,0] - t_max)\n",
    "print(t_fall)\n",
    "delta_l_peak = np.asscalar(luminosity[max_ind,1] - luminosity[0,1])\n",
    "delta_l_fall = np.asscalar(luminosity[-1,1] - luminosity[max_ind,1])\n",
    "log_lum = log10(max_lum/pow(10,51))"
   ]
  },
  {
   "cell_type": "code",
   "execution_count": null,
   "metadata": {},
   "outputs": [],
   "source": [
    "\n",
    "mup = model.source_peakmag(band='lsstu',magsys='ab')\n",
    "mgp = model.source_peakmag(band='lsstg',magsys='ab')\n",
    "mrp = model.source_peakmag(band='lsstr',magsys='ab')\n",
    "mip = model.source_peakmag(band='lssti',magsys='ab')\n",
    "mzp = model.source_peakmag(band='lsstz',magsys='ab')\n",
    "myp = model.source_peakmag(band='lssty',magsys='ab')\n",
    "\n",
    "# Save some properties of the models for plotting\n",
    "seds_props['M_u_peak'].append(mup)\n",
    "seds_props['M_g_peak'].append(mgp)\n",
    "seds_props['M_r_peak'].append(mrp)\n",
    "seds_props['M_i_peak'].append(mip)\n",
    "seds_props['M_z_peak'].append(mzp)\n",
    "seds_props['M_y_peak'].append(myp)\n",
    "seds_props['t_peak'].append(t_max)\n",
    "seds_props['L_peak'].append(max_lum)\n",
    "seds_props['t_fall'].append(t_fall)\n",
    "seds_props['log_lum'].append(log_lum)\n",
    "seds_props['delta_L_peak'].append(delta_l_peak)\n",
    "seds_props['delta_L_fall'].append(delta_l_fall)\n",
    "\n",
    "\n",
    "#     seds_data[key]['model'] = model\n",
    "#     seds_data[key]['parameters'] = generating_parameters[key]"
   ]
  },
  {
   "cell_type": "code",
   "execution_count": null,
   "metadata": {},
   "outputs": [],
   "source": [
    "import matplotlib.animation as animation"
   ]
  },
  {
   "cell_type": "code",
   "execution_count": null,
   "metadata": {},
   "outputs": [],
   "source": [
    "fig2 = plt.figure()\n",
    "fig2.tight_layout()\n",
    "times = np.arange(0,10,0.1)\n",
    "waves = np.arange(1000,25000,10)\n",
    "plt.title('SED for Good Fit')\n",
    "plt.xlabel(r'$\\lambda$ [$\\AA$]')\n",
    "plt.ylabel(r'Flux [ergs/s/$cm^2$/$\\AA$]')\n",
    "ims = []\n",
    "\n",
    "for t in times:\n",
    "    flux = model.flux(t,waves)\n",
    "    #ttl = plt.text(0.5, 1.01, 'SED for Good Fit (time = {0}[days])'.format({t}), horizontalalignment='center', verticalalignment='bottom', transform=ax.transAxes)\n",
    "    ims.append(plt.plot(waves,flux,color='b',))\n",
    "\n",
    "im_ani = animation.ArtistAnimation(fig2, ims, interval=250, repeat=False,\n",
    "                                   blit=True)\n",
    "# To save this second animation with some metadata, use the following command:\n",
    "im_ani.save('../../Good_SED.mp4',{'bbox_inches':'tight'})\n",
    "plt.show()"
   ]
  },
  {
   "cell_type": "code",
   "execution_count": 27,
   "metadata": {},
   "outputs": [
    {
     "data": {
      "image/png": "[encoded data removed]",
      "text/plain": [
       "<Figure size 561.6x666 with 6 Axes>"
      ]
     },
     "metadata": {},
     "output_type": "display_data"
    }
   ],
   "source": [
    "sncosmo.plot_lc(bands=['lsstu','lsstg','lsstr','lssti','lsstz','lssty'],model=model,zpsys='ab')\n",
    "plt.show()"
   ]
  },
  {
   "cell_type": "code",
   "execution_count": null,
   "metadata": {},
   "outputs": [],
   "source": [
    "Dist_SEDs = Set_SED_Redshift(Dist_SEDs, SED_zlist, param_priors['cosmology'])\n",
    "SEDs = Dist_SEDs"
   ]
  },
  {
   "cell_type": "code",
   "execution_count": null,
   "metadata": {},
   "outputs": [],
   "source": [
    "key_list = SEDs.keys()\n",
    "N_SEDs = len(SEDs)\n",
    "RA_dist, Dec_dist = Ra_Dec_Dist(N_SEDs, survey_params)\n",
    "t_dist = Time_Dist(N_SEDs, survey_params)\n",
    "for i, key in enumerate(key_list):\n",
    "    SEDs[key]['parameters']['z'] = deepcopy(SEDs[key]['model'].get('z'))\n",
    "    SEDs[key]['parameters']['ra'] = RA_dist[i]\n",
    "    SEDs[key]['parameters']['dec'] = Dec_dist[i]\n",
    "    SEDs[key]['parameters']['min_MJD'] = t_dist[i]\n",
    "    SEDs[key]['parameters']['max_MJD'] = t_dist[i] + SEDs[key]['model'].maxtime()"
   ]
  },
  {
   "cell_type": "markdown",
   "metadata": {},
   "source": [
    "### Resume normal operation"
   ]
  }
 ],
 "metadata": {
  "kernelspec": {
   "display_name": "Python 3",
   "language": "python",
   "name": "python3"
  },
  "language_info": {
   "codemirror_mode": {
    "name": "ipython",
    "version": 3
   },
   "file_extension": ".py",
   "mimetype": "text/x-python",
   "name": "python",
   "nbconvert_exporter": "python",
   "pygments_lexer": "ipython3",
   "version": "3.5.5"
  }
 },
 "nbformat": 4,
 "nbformat_minor": 2
}
