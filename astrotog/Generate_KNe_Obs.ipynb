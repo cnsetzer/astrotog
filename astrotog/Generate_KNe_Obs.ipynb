{
 "cells": [
  {
   "cell_type": "code",
   "execution_count": 1,
   "metadata": {},
   "outputs": [],
   "source": [
    "%matplotlib inline"
   ]
  },
  {
   "cell_type": "code",
   "execution_count": 2,
   "metadata": {},
   "outputs": [],
   "source": [
    "import numpy as np\n",
    "from math import inf\n",
    "import matplotlib.pyplot as plt\n",
    "from astrotog import transient_obs_dist as tod\n",
    "import seaborn\n",
    "# Import a cosmology, comment out if you want to define your own per the\n",
    "# astropy cosmology class\n",
    "from astropy.cosmology import Planck15 as cosmo"
   ]
  },
  {
   "cell_type": "code",
   "execution_count": 3,
   "metadata": {},
   "outputs": [],
   "source": [
    "import os\n",
    "import re\n",
    "import datetime\n",
    "import csv\n",
    "import sncosmo\n",
    "import pandas as pd\n",
    "from scipy.integrate import simps\n",
    "from copy import deepcopy\n",
    "import matplotlib\n",
    "import matplotlib.pyplot as plt\n",
    "import opsimsummary as oss\n",
    "import seaborn as sns\n",
    "# from astrotog import macronovae_wrapper as mw\n",
    "import macronovae_wrapper as mw\n",
    "from math import *\n",
    "from macronova2py import macronova2py as m2p\n",
    "\n",
    "# font = {'size': 14}\n",
    "# matplotlib.rc('font', **font)\n",
    "sns.set_style('whitegrid')  # I personally like this style.\n",
    "sns.set_context('talk')  # Easy to change context from `talk`, `notebook`, `poster`, `paper`. though further fine tuning is human."
   ]
  },
  {
   "cell_type": "code",
   "execution_count": 4,
   "metadata": {},
   "outputs": [],
   "source": [
    "# Imports from package\n",
    "import os\n",
    "import re\n",
    "import numpy as np\n",
    "import sncosmo\n",
    "from scipy.integrate import simps\n",
    "from copy import deepcopy\n",
    "import matplotlib\n",
    "import matplotlib.pyplot as plt\n",
    "import opsimsummary as oss\n",
    "import seaborn as sns\n",
    "# font = {'size': 14}\n",
    "# matplotlib.rc('font', **font)\n",
    "sns.set_style('whitegrid')  # I personally like this style.\n",
    "sns.set_context('talk')  # Easy to change context from `talk`, `notebook`, `poster`, `paper`. though further fine tuning is human."
   ]
  },
  {
   "cell_type": "code",
   "execution_count": 5,
   "metadata": {},
   "outputs": [],
   "source": [
    "# Define directory for locations of SEDS, references, throughputs\n",
    "paths = {}\n",
    "paths['seds'] = '/Users/cnsetzer/Documents/LSST/sedb/rosswog/NSNS/winds'\n",
    "paths['survey'] = '/Users/cnsetzer/Documents/LSST/surveydbs/minion_1016_sqlite.db'\n",
    "paths['throughputs'] = '/Users/cnsetzer/Documents/LSST/throughputs'\n",
    "paths['references'] = '/Users/cnsetzer/Documents/LSST/throughputs/references'\n",
    "# Flag for the survey database retreival to only get a subset of the whole.\n",
    "db_flag = 'combined'\n",
    "# Parameter prior for generating the transient KNe distribution\n",
    "param_priors = {'zmin': 0.0, 'zmax': 0.1, 'z_bin_size': 0.02, 'rate': 1000.0,\n",
    "                'cosmology': cosmo, 'kappa_min': 1, 'kappa_max': 100,\n",
    "                'm_ej_min': 0.01, 'm_ej_max': 0.2, 'v_ej_min': 0.01,\n",
    "                'v_ej_max': 0.5}\n",
    "instrument_params = {'Instrument': 'lsst', 'FOV_rad': np.deg2rad(1.75),\n",
    "                     'Mag_Sys': 'ab'}\n",
    "# Different selections cuts and corresponding limits\n",
    "Cuts = {'SNR': {'upper': inf, 'lower': 5, 'limit': 0.50}}\n",
    "# Flag for SED generation to just cycle through SEDs in the database\n",
    "gen_flag = 'parametric'"
   ]
  },
  {
   "cell_type": "code",
   "execution_count": null,
   "metadata": {},
   "outputs": [
    {
     "name": "stdout",
     "output_type": "stream",
     "text": [
      " \n",
      " Using OpSimOutput tool to get the database of simulated survey observations.\n",
      " reading from database sqlite:////Users/cnsetzer/Documents/LSST/surveydbs/minion_1016_sqlite.db\n",
      "SELECT * FROM Summary WHERE propID in (56, 54)\n"
     ]
    }
   ],
   "source": [
    "# Initialize the figure number for iterative, functional plotting\n",
    "fig_num = 1\n",
    "# Setup the basic running structure\n",
    "print(' ')\n",
    "obs_database = tod.Get_ObsStratDB_Summary(paths['survey'], db_flag)\n",
    "print(' Done reading in observation databse: {}'.format(paths['survey']))"
   ]
  },
  {
   "cell_type": "code",
   "execution_count": null,
   "metadata": {},
   "outputs": [],
   "source": [
    "print('\\n Getting survey paramters...')\n",
    "survey_params = tod.Get_Survey_Params(obs_database)\n",
    "print(' Done retreiving survey paramters.')"
   ]
  },
  {
   "cell_type": "code",
   "execution_count": null,
   "metadata": {},
   "outputs": [],
   "source": [
    "print(' Getting the LSST throughputs and computing the reference fluxes...')\n",
    "instrument_params = tod.Get_Throughputs(instrument_params, paths)\n",
    "instrument_params = tod.Get_Reference_Flux(instrument_params, paths)\n",
    "print(' Done computing instrument parameters.')"
   ]
  },
  {
   "cell_type": "markdown",
   "metadata": {},
   "source": [
    "### The wrapper function for generating the SEDs"
   ]
  },
  {
   "cell_type": "code",
   "execution_count": null,
   "metadata": {},
   "outputs": [],
   "source": [
    "# Generate the all mock KNe SEDs\n",
    "# print('\\n Generating mock KNe sources...')\n",
    "# SEDs = tod.Gen_SED_dist(paths['seds'], survey_params, param_priors, gen_flag)\n",
    "# print(' Done generating mock KNe sources.')"
   ]
  },
  {
   "cell_type": "markdown",
   "metadata": {},
   "source": [
    "### Investigate the Gen_SED_dist"
   ]
  },
  {
   "cell_type": "code",
   "execution_count": null,
   "metadata": {},
   "outputs": [],
   "source": [
    "SEDdb_path = paths['seds']\n",
    "# Compile the full parameter space of the generate SEDS\n",
    "# First compute the z_dist based on the survey parameters as this sets the\n",
    "# Number of SEDs"
   ]
  },
  {
   "cell_type": "code",
   "execution_count": null,
   "metadata": {},
   "outputs": [],
   "source": [
    "# SEDs = Gen_zDist_SEDs(SEDdb_path, survey_params, param_priors, gen_flag)"
   ]
  },
  {
   "cell_type": "markdown",
   "metadata": {},
   "source": [
    "### Gen_zDist_SEDs expanded"
   ]
  },
  {
   "cell_type": "code",
   "execution_count": null,
   "metadata": {},
   "outputs": [],
   "source": [
    "Dist_SEDs = {}\n",
    "# Given survey parameters, a SED rate, and a cosmology draw from a Poisson\n",
    "# distribution the distribution of the objects vs. redshift.\n",
    "SED_zlist = list(sncosmo.zdist(zmin=param_priors['zmin'], zmax=param_priors['zmax'],\n",
    "                               time=survey_params['survey_time'], area=survey_params['survey_area'],\n",
    "                               ratefunc=tod.SED_Rate(param_priors), cosmo=param_priors['cosmology']))\n",
    "N_SEDs = len(SED_zlist)\n",
    "new_keys = list()\n",
    "print(' The number of mock SEDs being genereated is {}'.format(N_SEDs))\n",
    "for i in np.arange(N_SEDs):\n",
    "    new_keys.append('Mock_{}'.format(str(i)))"
   ]
  },
  {
   "cell_type": "code",
   "execution_count": null,
   "metadata": {},
   "outputs": [],
   "source": [
    "# Dist_SEDs = Gen_SED(N_SEDs, new_keys, param_priors, seds_path, gen_flag)\n",
    "# # Place the SED at the redshift from the redshift distribution calc."
   ]
  },
  {
   "cell_type": "markdown",
   "metadata": {},
   "source": [
    "### Expand GEN_SED"
   ]
  },
  {
   "cell_type": "code",
   "execution_count": null,
   "metadata": {},
   "outputs": [],
   "source": [
    "if gen_flag == 'cycle':\n",
    "    if SEDdb_loc:\n",
    "        tod.Pick_Rand_dbSED(N_SEDs, new_keys, SEDdb_loc)\n",
    "elif gen_flag == 'parametric':\n",
    "    generating_parameters = tod.Draw_KNe_Params(param_priors, new_keys)   "
   ]
  },
  {
   "cell_type": "markdown",
   "metadata": {},
   "source": [
    "### Explore the parameter space that has been drawn for the generated KNe"
   ]
  },
  {
   "cell_type": "code",
   "execution_count": null,
   "metadata": {},
   "outputs": [],
   "source": [
    "import corner"
   ]
  },
  {
   "cell_type": "code",
   "execution_count": null,
   "metadata": {},
   "outputs": [],
   "source": [
    "p1, p2, p3 = [], [], []\n",
    "for key in generating_parameters.keys():\n",
    "    p1.append(generating_parameters[key]['m_ej']) \n",
    "    p2.append(generating_parameters[key]['v_ej']) \n",
    "    p3.append(generating_parameters[key]['kappa']) \n",
    "    \n",
    "p1 = np.asarray(p1).reshape((len(generating_parameters.keys()),1))\n",
    "p2 = np.asarray(p2).reshape((len(generating_parameters.keys()),1))\n",
    "p3 = np.asarray(p3).reshape((len(generating_parameters.keys()),1))"
   ]
  },
  {
   "cell_type": "code",
   "execution_count": null,
   "metadata": {},
   "outputs": [],
   "source": [
    "d_set1 = np.hstack([p1,p2,p3])"
   ]
  },
  {
   "cell_type": "code",
   "execution_count": null,
   "metadata": {},
   "outputs": [],
   "source": [
    "value1 = [0.06,0.15,10]\n",
    "\n",
    "figure = corner.corner(d_set1,labels=[r\"$m_{\\mathrm{ej}}$\", r\"$v_{\\mathrm{ej}}$\", r\"$\\kappa$\"],\n",
    "                       show_titles=True, title_kwargs={\"fontsize\": 12})\n",
    "\n",
    "# Extract the axes\n",
    "axes = np.array(figure.axes).reshape((3,3))\n",
    "\n",
    "# Loop over the diagonal\n",
    "for i in range(3):\n",
    "    ax = axes[i, i]\n",
    "    ax.axvline(value1[i], color=\"r\")\n",
    "\n",
    "# Loop over the histograms\n",
    "for yi in range(3):\n",
    "    for xi in range(yi):\n",
    "        ax = axes[yi, xi]\n",
    "        ax.axvline(value1[xi], color=\"r\")\n",
    "        ax.axhline(value1[yi], color=\"r\")\n",
    "        ax.plot(value1[xi], value1[yi], \"sr\")\n",
    "        "
   ]
  },
  {
   "cell_type": "markdown",
   "metadata": {},
   "source": [
    "### Expand Semi_Analytic_KNe"
   ]
  },
  {
   "cell_type": "code",
   "execution_count": null,
   "metadata": {},
   "outputs": [],
   "source": [
    "#Semi_Analytic_KNe(generating_parameters, new_keys)"
   ]
  },
  {
   "cell_type": "markdown",
   "metadata": {},
   "source": [
    "### Save some of the properties of the SEDs that are generated"
   ]
  },
  {
   "cell_type": "code",
   "execution_count": null,
   "metadata": {},
   "outputs": [],
   "source": [
    "seds_data = {}\n",
    "seds_props = {}\n",
    "seds_props['M_u_peak'] = []\n",
    "seds_props['M_g_peak'] = []\n",
    "seds_props['M_r_peak'] = []\n",
    "seds_props['M_i_peak'] = []\n",
    "seds_props['M_z_peak'] = []\n",
    "seds_props['M_y_peak'] = []\n",
    "seds_props['t_peak'] = []\n",
    "seds_props['L_peak'] = []\n",
    "seds_props['t_fall'] = []\n",
    "seds_props['log_lum'] = []\n",
    "seds_props['delta_L_peak'] = []\n",
    "seds_props['delta_L_fall'] = []\n",
    "throughputs = instrument_params['throughputs']\n",
    "ref_bandflux = deepcopy(instrument_params['Bandflux_References'])\n",
    "n_it = len(new_keys)\n",
    "# n_it = 100\n",
    "for i in np.arange(n_it):\n",
    "#     seds_data[key] = {}\n",
    "    key = new_keys[i]\n",
    "    KNE_parameters = []\n",
    "    KNE_parameters.append(generating_parameters[key]['t_0'])\n",
    "    KNE_parameters.append(generating_parameters[key]['t_f'])\n",
    "    KNE_parameters.append(generating_parameters[key]['m_ej'])\n",
    "    KNE_parameters.append(generating_parameters[key]['v_ej'])\n",
    "    KNE_parameters.append(generating_parameters[key]['heatingrate_exp'])\n",
    "    KNE_parameters.append(generating_parameters[key]['thermalization_factor'])\n",
    "    KNE_parameters.append(generating_parameters[key]['DZ_enhancement_factor'])\n",
    "    KNE_parameters.append(generating_parameters[key]['kappa'])\n",
    "    KNE_parameters.append(generating_parameters[key]['Initial_Temp'])\n",
    "    KNE_parameters.append(False)\n",
    "    KNE_parameters.append('dummy string')\n",
    "    \n",
    "    Nt = 2000\n",
    "    n = len(KNE_parameters) - 2\n",
    "    MNE_parameters = KNE_parameters[0:n]\n",
    "    read_hrate = KNE_parameters[n]\n",
    "    heating_rates_file = KNE_parameters[n+1]\n",
    "    luminosity = m2p.calculate_luminosity(n, MNE_parameters, read_hrate, heating_rates_file, Nt)\n",
    "    phase, wave, flux = mw.SED_timeseries(luminosity, separated=True)\n",
    "    source = sncosmo.TimeSeriesSource(phase, wave, flux)\n",
    "    model = sncosmo.Model(source=source)\n",
    "    \n",
    "    # Find peak time/index\n",
    "    max_ind = np.argmax(luminosity[:,1])\n",
    "    max_lum = np.asscalar(luminosity[max_ind,1])\n",
    "    t_max = np.asscalar(luminosity[max_ind,0])\n",
    "    t_fall = np.asscalar(luminosity[-1,0] - t_max)\n",
    "    delta_l_peak = np.asscalar(luminosity[max_ind,1] - luminosity[0,1])\n",
    "    delta_l_fall = np.asscalar(luminosity[-1,1] - luminosity[max_ind,1])\n",
    "    log_lum = log10(max_lum/pow(10,51))\n",
    "    \n",
    "    SED={}\n",
    "    SED['model'] = model\n",
    "    mup,mgp,mrp,mip,mzp,myp = 100,100,100,100,100,100\n",
    "    #Find the peak magnitudes\n",
    "    for time in np.linspace(0,luminosity[-1,0],100):\n",
    "        mu =tod.Compute_Obs_Magnitudes(tod.Compute_Bandflux(band='lsstu', throughputs=throughputs, SED=SED, phase=time), ref_bandflux['lsstu'])\n",
    "        mg =tod.Compute_Obs_Magnitudes(tod.Compute_Bandflux(band='lsstg', throughputs=throughputs, SED=SED, phase=time), ref_bandflux['lsstg'])\n",
    "        mr =tod.Compute_Obs_Magnitudes(tod.Compute_Bandflux(band='lsstr', throughputs=throughputs, SED=SED, phase=time), ref_bandflux['lsstr'])\n",
    "        mi =tod.Compute_Obs_Magnitudes(tod.Compute_Bandflux(band='lssti', throughputs=throughputs, SED=SED, phase=time), ref_bandflux['lssti'])\n",
    "        mz =tod.Compute_Obs_Magnitudes(tod.Compute_Bandflux(band='lsstz', throughputs=throughputs, SED=SED, phase=time), ref_bandflux['lsstz'])\n",
    "        my =tod.Compute_Obs_Magnitudes(tod.Compute_Bandflux(band='lssty', throughputs=throughputs, SED=SED, phase=time), ref_bandflux['lssty'])\n",
    "        if mu < mup:\n",
    "            mup = mu\n",
    "        if mg < mgp:\n",
    "            mgp = mg\n",
    "        if mr < mrp:\n",
    "            mrp = mr\n",
    "        if mi < mip:\n",
    "            mip = mi\n",
    "        if mz < mzp:\n",
    "            mzp = mz\n",
    "        if my < myp:\n",
    "            myp = my\n",
    "    \n",
    "    # Save some properties of the models for plotting\n",
    "    seds_props['M_u_peak'].append(mup)\n",
    "    seds_props['M_g_peak'].append(mgp)\n",
    "    seds_props['M_r_peak'].append(mrp)\n",
    "    seds_props['M_i_peak'].append(mip)\n",
    "    seds_props['M_z_peak'].append(mzp)\n",
    "    seds_props['M_y_peak'].append(myp)\n",
    "    seds_props['t_peak'].append(t_max)\n",
    "    seds_props['L_peak'].append(max_lum)\n",
    "    seds_props['t_fall'].append(t_fall)\n",
    "    seds_props['log_lum'].append(log_lum)\n",
    "    seds_props['delta_L_peak'].append(delta_l_peak)\n",
    "    seds_props['delta_L_fall'].append(delta_l_fall)\n",
    "\n",
    "    \n",
    "#     seds_data[key]['model'] = model\n",
    "#     seds_data[key]['parameters'] = generating_parameters[key]\n"
   ]
  },
  {
   "cell_type": "code",
   "execution_count": null,
   "metadata": {},
   "outputs": [],
   "source": [
    "# Overplot the magnitude distributions\n",
    "fig = plt.figure()\n",
    "seaborn.distplot(seds_props['M_u_peak'],hist=True, color='b')\n",
    "seaborn.distplot(seds_props['M_g_peak'],hist=True, color='g')\n",
    "seaborn.distplot(seds_props['M_r_peak'],hist=True, color='r')\n",
    "seaborn.distplot(seds_props['M_i_peak'],hist=True, color='darkorange')\n",
    "seaborn.distplot(seds_props['M_z_peak'],hist=True, color='goldenrod')\n",
    "seaborn.distplot(seds_props['M_y_peak'],hist=True, color='y')\n",
    "plt.show()"
   ]
  },
  {
   "cell_type": "code",
   "execution_count": null,
   "metadata": {},
   "outputs": [],
   "source": [
    "fig = plt.figure()\n",
    "seaborn.distplot(seds_props['t_peak'],hist=True)\n",
    "plt.show()"
   ]
  },
  {
   "cell_type": "code",
   "execution_count": null,
   "metadata": {},
   "outputs": [],
   "source": [
    "fig = plt.figure()\n",
    "seaborn.distplot(seds_props['t_fall'],hist=True)\n",
    "plt.show()"
   ]
  },
  {
   "cell_type": "code",
   "execution_count": null,
   "metadata": {},
   "outputs": [],
   "source": [
    "fig = plt.figure()\n",
    "seaborn.distplot(seds_props['L_peak'],hist=True)\n",
    "plt.show()"
   ]
  },
  {
   "cell_type": "code",
   "execution_count": null,
   "metadata": {},
   "outputs": [],
   "source": [
    "fig = plt.figure()\n",
    "seaborn.distplot(seds_props['log_lum'],hist=True)\n",
    "plt.show()"
   ]
  },
  {
   "cell_type": "code",
   "execution_count": null,
   "metadata": {},
   "outputs": [],
   "source": [
    "fig = plt.figure()\n",
    "seaborn.distplot(seds_props['delta_L_peak'],hist=True)\n",
    "plt.show()"
   ]
  },
  {
   "cell_type": "code",
   "execution_count": null,
   "metadata": {},
   "outputs": [],
   "source": [
    "fig = plt.figure()\n",
    "seaborn.distplot(seds_props['delta_L_fall'],hist=True)\n",
    "plt.show()"
   ]
  },
  {
   "cell_type": "code",
   "execution_count": null,
   "metadata": {},
   "outputs": [],
   "source": [
    "Dist_SEDs = Set_SED_Redshift(Dist_SEDs, SED_zlist, param_priors['cosmology'])\n",
    "SEDs = Dist_SEDs"
   ]
  },
  {
   "cell_type": "code",
   "execution_count": null,
   "metadata": {},
   "outputs": [],
   "source": [
    "key_list = SEDs.keys()\n",
    "N_SEDs = len(SEDs)\n",
    "RA_dist, Dec_dist = Ra_Dec_Dist(N_SEDs, survey_params)\n",
    "t_dist = Time_Dist(N_SEDs, survey_params)\n",
    "for i, key in enumerate(key_list):\n",
    "    SEDs[key]['parameters']['z'] = deepcopy(SEDs[key]['model'].get('z'))\n",
    "    SEDs[key]['parameters']['ra'] = RA_dist[i]\n",
    "    SEDs[key]['parameters']['dec'] = Dec_dist[i]\n",
    "    SEDs[key]['parameters']['min_MJD'] = t_dist[i]\n",
    "    SEDs[key]['parameters']['max_MJD'] = t_dist[i] + SEDs[key]['model'].maxtime()"
   ]
  },
  {
   "cell_type": "markdown",
   "metadata": {},
   "source": [
    "### Resume normal operation"
   ]
  },
  {
   "cell_type": "code",
   "execution_count": null,
   "metadata": {},
   "outputs": [],
   "source": [
    "# Apply observation to all mock SEDs\n",
    "print('\\n Applying simulated observations to mock sources...')\n",
    "All_Source_Observations = tod.Gen_Observations(SEDs, obs_database,\n",
    "                                               instrument_params)\n",
    "print(' Done generating simulated observations of mock sources.')"
   ]
  },
  {
   "cell_type": "code",
   "execution_count": null,
   "metadata": {},
   "outputs": [],
   "source": [
    "# Add quality of observation information, currently just SNR\n",
    "All_Source_Observations = tod.Assign_SNR(All_Source_Observations)\n",
    "# Using this quality assignment and predefined selection cut criteria determine\n",
    "# 'detections'\n",
    "All_Source_Observations, Detections, n_detect, efficiency = tod.Get_Detections(All_Source_Observations, Cuts)\n",
    "print('\\n The number of detected KNe is {2} for a {0} cut of {1}.\\n This is an efficiency of {3:.3f}%'\n",
    "      .format('SNR', Cuts['SNR']['lower'], n_detect, 100*efficiency))\n",
    "print('The number of mock sources is {0}, and the number of observed sources is \\\n",
    "        {1}'.format(len(SEDs.keys()), len(Detections.keys())))"
   ]
  },
  {
   "cell_type": "code",
   "execution_count": null,
   "metadata": {},
   "outputs": [],
   "source": [
    "print('Outputting Observations to files in folder: \\'Output\\'.')\n",
    "tod.Output_Observations(Detections)\n",
    "\n",
    "# Plot histogram of detected vs genereated mock KNe\n",
    "N_z_fig, fig_num = tod.Get_N_z(SEDs, Detections, param_priors, fig_num)\n",
    "plt.show()"
   ]
  },
  {
   "cell_type": "code",
   "execution_count": null,
   "metadata": {},
   "outputs": [],
   "source": [
    "Observations = deepcopy(Detections)\n",
    "\n",
    "obs_key = 'observations'\n",
    "source_list = Observations.keys()\n",
    "\n",
    "# Plot max lc for talk\n",
    "max_lc_p = 0\n",
    "for key in source_list:\n",
    "    band_keys = Observations[key][obs_key].keys()\n",
    "    for i, band in enumerate(band_keys):\n",
    "        num_p_lc = len(Observations[key][obs_key][band]['times'])\n",
    "        if num_p_lc > max_lc_p:\n",
    "            max_lc_p = num_p_lc\n",
    "            max_band = band\n",
    "            max_source_key = key"
   ]
  },
  {
   "cell_type": "code",
   "execution_count": null,
   "metadata": {},
   "outputs": [],
   "source": [
    "model_times = np.linspace(0,45,100)\n",
    "plot_model_mags = Observations[max_source_key]['model'].bandmag('lssti','AB',model_times)\n",
    "model_times"
   ]
  },
  {
   "cell_type": "code",
   "execution_count": null,
   "metadata": {},
   "outputs": [],
   "source": [
    "#max_source_key = 'Mock 281'\n",
    "#max_band = 'lsstr'\n",
    "f = plt.figure(fig_num)\n",
    "axes = f.add_subplot(1, 1, 1)\n",
    "t_0 = Observations[max_source_key]['parameters']['min_MJD']\n",
    "times = deepcopy(Observations[max_source_key][obs_key][max_band]['times'])\n",
    "times = times - t_0\n",
    "mags = deepcopy(Observations[max_source_key][obs_key][max_band]['magnitudes'])\n",
    "errs = deepcopy(Observations[max_source_key][obs_key][max_band]['mag_errors'])\n",
    "axes.errorbar(x=times, y=mags, yerr=errs, fmt='ro')\n",
    "axes.legend(['{0}'.format(max_band)])\n",
    "axes.set(xlabel=r'$t - t_{0}$ MJD', ylabel=r'$m_{ab}$')\n",
    "axes.set_ylim(bottom=27.0, top=22.0)\n",
    "axes.set_title('Simulated Source: {}'.format(max_source_key))\n",
    "f.savefig('test1.pdf', bbox_inches='tight')"
   ]
  }
 ],
 "metadata": {
  "kernelspec": {
   "display_name": "Python 3",
   "language": "python",
   "name": "python3"
  },
  "language_info": {
   "codemirror_mode": {
    "name": "ipython",
    "version": 3
   },
   "file_extension": ".py",
   "mimetype": "text/x-python",
   "name": "python",
   "nbconvert_exporter": "python",
   "pygments_lexer": "ipython3",
   "version": "3.5.5"
  }
 },
 "nbformat": 4,
 "nbformat_minor": 2
}
